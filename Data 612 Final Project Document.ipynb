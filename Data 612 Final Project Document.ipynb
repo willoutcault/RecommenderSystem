{
 "cells": [
  {
   "cell_type": "markdown",
   "metadata": {},
   "source": [
    "# Amazon Music Recommendations - PySpark ALS\n",
    "## DATA612 - Recommender Systems\n",
    "### Paul Perez and William Outcault"
   ]
  },
  {
   "cell_type": "markdown",
   "metadata": {},
   "source": [
    "The goal of this project is to produce reliable recommendations at an efficient rate using a relatively large dataset (>1M ratings). Specifically we want to recommend music based off Amazon music reviews using Python, PySpark, and Alternating Least Squares (ALS) method."
   ]
  },
  {
   "cell_type": "markdown",
   "metadata": {},
   "source": [
    "The dataset was obtained from one of Amazon's Customer Review datasets (https://s3.amazonaws.com/amazon-reviews-pds/). Amazon provides a small sample of customer evaluations in order to help further research in a variety of disciplines, in our case we built an ALS model using Pyspark to recommend music for a large sum of individuals. The data contains reviews spanning from 1995 to 2015 in the form of ratings (1-5 stars)."
   ]
  },
  {
   "cell_type": "markdown",
   "metadata": {},
   "source": [
    "After completing previous projects using R both of us felt that using Apache Spark with Python would be a great learning experience, and it would also be very applicable towards our future careers. The following report covers our data ingestion, exploratory data analysis, our ALS model, results and conclusion."
   ]
  },
  {
   "cell_type": "markdown",
   "metadata": {},
   "source": [
    "## Data Ingestion"
   ]
  },
  {
   "cell_type": "markdown",
   "metadata": {},
   "source": [
    "We begin by loading the necessary modules for our model."
   ]
  },
  {
   "cell_type": "code",
   "execution_count": 2,
   "metadata": {},
   "outputs": [],
   "source": [
    "import pandas as pd\n",
    "from sklearn import preprocessing\n",
    "from pyspark.sql import SparkSession\n",
    "from pyspark import SparkContext\n",
    "from pyspark import SparkConf\n",
    "from pyspark.ml.evaluation import RegressionEvaluator\n",
    "from pyspark.ml.recommendation import ALS\n",
    "from pyspark.ml.tuning import TrainValidationSplit, ParamGridBuilder\n",
    "from pyspark.sql import Row\n",
    "from pyspark.sql.functions import monotonically_increasing_id\n",
    "from pyspark.ml.feature import StringIndexer\n",
    "from pyspark.ml import Pipeline\n",
    "from pyspark.sql.functions import col\n",
    "from pyspark.sql import SparkSession\n",
    "import matplotlib.pyplot as plt"
   ]
  },
  {
   "cell_type": "markdown",
   "metadata": {},
   "source": [
    "Amazon's customer digital music review dataset is loaded as a tsv (tab-separated values) file using pandas."
   ]
  },
  {
   "cell_type": "code",
   "execution_count": 3,
   "metadata": {
    "scrolled": true
   },
   "outputs": [
    {
     "name": "stderr",
     "output_type": "stream",
     "text": [
      "b'Skipping line 1686: expected 15 fields, saw 22\\nSkipping line 23469: expected 15 fields, saw 22\\nSkipping line 25225: expected 15 fields, saw 22\\nSkipping line 48778: expected 15 fields, saw 22\\nSkipping line 54061: expected 15 fields, saw 22\\n'\n",
      "b'Skipping line 66479: expected 15 fields, saw 22\\nSkipping line 85019: expected 15 fields, saw 22\\nSkipping line 102383: expected 15 fields, saw 22\\nSkipping line 108349: expected 15 fields, saw 22\\nSkipping line 111834: expected 15 fields, saw 22\\nSkipping line 122189: expected 15 fields, saw 22\\nSkipping line 124293: expected 15 fields, saw 22\\n'\n",
      "b'Skipping line 137493: expected 15 fields, saw 22\\nSkipping line 138671: expected 15 fields, saw 22\\nSkipping line 147213: expected 15 fields, saw 22\\nSkipping line 156030: expected 15 fields, saw 22\\nSkipping line 159108: expected 15 fields, saw 22\\nSkipping line 162860: expected 15 fields, saw 22\\nSkipping line 166640: expected 15 fields, saw 22\\nSkipping line 174287: expected 15 fields, saw 22\\nSkipping line 175456: expected 15 fields, saw 22\\nSkipping line 186094: expected 15 fields, saw 22\\nSkipping line 192686: expected 15 fields, saw 22\\n'\n",
      "b'Skipping line 197207: expected 15 fields, saw 22\\nSkipping line 203271: expected 15 fields, saw 22\\nSkipping line 205989: expected 15 fields, saw 22\\nSkipping line 210111: expected 15 fields, saw 22\\nSkipping line 211806: expected 15 fields, saw 22\\nSkipping line 219501: expected 15 fields, saw 22\\nSkipping line 220134: expected 15 fields, saw 22\\nSkipping line 236916: expected 15 fields, saw 22\\nSkipping line 242422: expected 15 fields, saw 22\\nSkipping line 256047: expected 15 fields, saw 22\\n'\n",
      "b'Skipping line 266009: expected 15 fields, saw 22\\nSkipping line 269255: expected 15 fields, saw 22\\nSkipping line 327533: expected 15 fields, saw 22\\n'\n",
      "b'Skipping line 327853: expected 15 fields, saw 22\\nSkipping line 335421: expected 15 fields, saw 22\\nSkipping line 336895: expected 15 fields, saw 22\\nSkipping line 346686: expected 15 fields, saw 22\\nSkipping line 362516: expected 15 fields, saw 22\\nSkipping line 369917: expected 15 fields, saw 22\\nSkipping line 377723: expected 15 fields, saw 22\\nSkipping line 390007: expected 15 fields, saw 22\\n'\n",
      "b'Skipping line 395685: expected 15 fields, saw 22\\nSkipping line 402523: expected 15 fields, saw 22\\nSkipping line 403436: expected 15 fields, saw 22\\nSkipping line 407262: expected 15 fields, saw 29\\nSkipping line 419930: expected 15 fields, saw 22\\nSkipping line 422392: expected 15 fields, saw 22\\nSkipping line 426219: expected 15 fields, saw 22\\nSkipping line 441415: expected 15 fields, saw 22\\nSkipping line 444888: expected 15 fields, saw 22\\n'\n",
      "b'Skipping line 462026: expected 15 fields, saw 22\\nSkipping line 467835: expected 15 fields, saw 22\\nSkipping line 472381: expected 15 fields, saw 22\\nSkipping line 475097: expected 15 fields, saw 22\\nSkipping line 496021: expected 15 fields, saw 22\\nSkipping line 498275: expected 15 fields, saw 22\\nSkipping line 499792: expected 15 fields, saw 22\\n'\n",
      "b'Skipping line 524535: expected 15 fields, saw 22\\nSkipping line 530569: expected 15 fields, saw 22\\nSkipping line 555939: expected 15 fields, saw 22\\nSkipping line 557743: expected 15 fields, saw 22\\nSkipping line 571215: expected 15 fields, saw 22\\nSkipping line 578559: expected 15 fields, saw 22\\nSkipping line 585102: expected 15 fields, saw 22\\n'\n",
      "b'Skipping line 591236: expected 15 fields, saw 22\\nSkipping line 600258: expected 15 fields, saw 22\\nSkipping line 607765: expected 15 fields, saw 22\\nSkipping line 621501: expected 15 fields, saw 22\\nSkipping line 626251: expected 15 fields, saw 22\\nSkipping line 628349: expected 15 fields, saw 22\\nSkipping line 635047: expected 15 fields, saw 22\\nSkipping line 642862: expected 15 fields, saw 22\\nSkipping line 651027: expected 15 fields, saw 22\\n'\n",
      "b'Skipping line 662525: expected 15 fields, saw 22\\nSkipping line 702075: expected 15 fields, saw 22\\nSkipping line 717158: expected 15 fields, saw 22\\n'\n",
      "b'Skipping line 754638: expected 15 fields, saw 22\\nSkipping line 780170: expected 15 fields, saw 22\\nSkipping line 780200: expected 15 fields, saw 22\\nSkipping line 780990: expected 15 fields, saw 22\\nSkipping line 781178: expected 15 fields, saw 22\\nSkipping line 781346: expected 15 fields, saw 22\\n'\n",
      "b'Skipping line 790613: expected 15 fields, saw 22\\nSkipping line 824266: expected 15 fields, saw 22\\n'\n",
      "b'Skipping line 855601: expected 15 fields, saw 22\\nSkipping line 856375: expected 15 fields, saw 22\\n'\n",
      "b'Skipping line 1014504: expected 15 fields, saw 22\\nSkipping line 1031099: expected 15 fields, saw 22\\n'\n"
     ]
    }
   ],
   "source": [
    "# Load Amazon Review Dataset of Digital Music Purchases as DataFrame\n",
    "amz = pd.read_csv('https://s3.amazonaws.com/amazon-reviews-pds/tsv/amazon_reviews_us_Digital_Music_Purchase_v1_00.tsv.gz',\n",
    "                  sep='\\t', error_bad_lines=False)"
   ]
  },
  {
   "cell_type": "markdown",
   "metadata": {},
   "source": [
    "When ingesting the dataset, some rows included a different length of field columns and therefore were skipped to maintain consistency. The number of rows skipped made up for less than 1% of the total rows therefore we concluded this would not significantly impact our model."
   ]
  },
  {
   "cell_type": "markdown",
   "metadata": {},
   "source": [
    "## Exploratory Data Analysis"
   ]
  },
  {
   "cell_type": "markdown",
   "metadata": {},
   "source": [
    "Before we build the model lets perform exploratory data analysis on the dataset. We will eventually need to subset the dataframe depending on how many unique users and songs there are."
   ]
  },
  {
   "cell_type": "markdown",
   "metadata": {},
   "source": [
    "Firt lets view the shape of our dataset."
   ]
  },
  {
   "cell_type": "code",
   "execution_count": 4,
   "metadata": {},
   "outputs": [
    {
     "name": "stdout",
     "output_type": "stream",
     "text": [
      "Dataframe shape:  (1681484, 15)\n"
     ]
    }
   ],
   "source": [
    "print('Dataframe shape: ',amz.shape)"
   ]
  },
  {
   "cell_type": "markdown",
   "metadata": {},
   "source": [
    "We currently have 1,681,484 rows and 15 columns. Now lets view the contents of each column."
   ]
  },
  {
   "cell_type": "code",
   "execution_count": 5,
   "metadata": {},
   "outputs": [
    {
     "data": {
      "text/html": [
       "<div>\n",
       "<style scoped>\n",
       "    .dataframe tbody tr th:only-of-type {\n",
       "        vertical-align: middle;\n",
       "    }\n",
       "\n",
       "    .dataframe tbody tr th {\n",
       "        vertical-align: top;\n",
       "    }\n",
       "\n",
       "    .dataframe thead th {\n",
       "        text-align: right;\n",
       "    }\n",
       "</style>\n",
       "<table border=\"1\" class=\"dataframe\">\n",
       "  <thead>\n",
       "    <tr style=\"text-align: right;\">\n",
       "      <th></th>\n",
       "      <th>marketplace</th>\n",
       "      <th>customer_id</th>\n",
       "      <th>review_id</th>\n",
       "      <th>product_id</th>\n",
       "      <th>product_parent</th>\n",
       "      <th>product_title</th>\n",
       "      <th>product_category</th>\n",
       "      <th>star_rating</th>\n",
       "      <th>helpful_votes</th>\n",
       "      <th>total_votes</th>\n",
       "      <th>vine</th>\n",
       "      <th>verified_purchase</th>\n",
       "      <th>review_headline</th>\n",
       "      <th>review_body</th>\n",
       "      <th>review_date</th>\n",
       "    </tr>\n",
       "  </thead>\n",
       "  <tbody>\n",
       "    <tr>\n",
       "      <td>0</td>\n",
       "      <td>US</td>\n",
       "      <td>10293599</td>\n",
       "      <td>R14LVB34Z2Z53I</td>\n",
       "      <td>B000YMOQZY</td>\n",
       "      <td>262935067</td>\n",
       "      <td>Knockin' On Heaven's Door</td>\n",
       "      <td>Digital_Music_Purchase</td>\n",
       "      <td>5.0</td>\n",
       "      <td>0.0</td>\n",
       "      <td>0.0</td>\n",
       "      <td>N</td>\n",
       "      <td>Y</td>\n",
       "      <td>favorites</td>\n",
       "      <td>Great  rendition. Great  song</td>\n",
       "      <td>2015-08-31</td>\n",
       "    </tr>\n",
       "    <tr>\n",
       "      <td>1</td>\n",
       "      <td>US</td>\n",
       "      <td>6087195</td>\n",
       "      <td>R2M0R9CWPC82LT</td>\n",
       "      <td>B00ISAEC80</td>\n",
       "      <td>452318038</td>\n",
       "      <td>Flawless</td>\n",
       "      <td>Digital_Music_Purchase</td>\n",
       "      <td>5.0</td>\n",
       "      <td>0.0</td>\n",
       "      <td>0.0</td>\n",
       "      <td>N</td>\n",
       "      <td>Y</td>\n",
       "      <td>Five Stars</td>\n",
       "      <td>A good music to listen.</td>\n",
       "      <td>2015-08-31</td>\n",
       "    </tr>\n",
       "    <tr>\n",
       "      <td>2</td>\n",
       "      <td>US</td>\n",
       "      <td>33717063</td>\n",
       "      <td>RQNQI2R3BM52A</td>\n",
       "      <td>B00VBB6AVU</td>\n",
       "      <td>675969129</td>\n",
       "      <td>Scandal of Grace</td>\n",
       "      <td>Digital_Music_Purchase</td>\n",
       "      <td>4.0</td>\n",
       "      <td>0.0</td>\n",
       "      <td>0.0</td>\n",
       "      <td>N</td>\n",
       "      <td>Y</td>\n",
       "      <td>Good</td>\n",
       "      <td>Not as good as the original but I needed to he...</td>\n",
       "      <td>2015-08-31</td>\n",
       "    </tr>\n",
       "    <tr>\n",
       "      <td>3</td>\n",
       "      <td>US</td>\n",
       "      <td>14948020</td>\n",
       "      <td>RTUIX1135HUAB</td>\n",
       "      <td>B008A5POJO</td>\n",
       "      <td>282925893</td>\n",
       "      <td>I Surrender (Live)</td>\n",
       "      <td>Digital_Music_Purchase</td>\n",
       "      <td>5.0</td>\n",
       "      <td>0.0</td>\n",
       "      <td>0.0</td>\n",
       "      <td>N</td>\n",
       "      <td>Y</td>\n",
       "      <td>Wonderful lyrics! Makes you feel like praying</td>\n",
       "      <td>Time to worship and surrender with this song. ...</td>\n",
       "      <td>2015-08-31</td>\n",
       "    </tr>\n",
       "    <tr>\n",
       "      <td>4</td>\n",
       "      <td>US</td>\n",
       "      <td>21694522</td>\n",
       "      <td>RE3QSAT8TL010</td>\n",
       "      <td>B014CW2RN4</td>\n",
       "      <td>109077793</td>\n",
       "      <td>We Are Young (Jersey Club)</td>\n",
       "      <td>Digital_Music_Purchase</td>\n",
       "      <td>4.0</td>\n",
       "      <td>0.0</td>\n",
       "      <td>0.0</td>\n",
       "      <td>N</td>\n",
       "      <td>Y</td>\n",
       "      <td>Hot remix but took short</td>\n",
       "      <td>So this should be longer....but love this song:)</td>\n",
       "      <td>2015-08-31</td>\n",
       "    </tr>\n",
       "  </tbody>\n",
       "</table>\n",
       "</div>"
      ],
      "text/plain": [
       "  marketplace  customer_id       review_id  product_id  product_parent  \\\n",
       "0          US     10293599  R14LVB34Z2Z53I  B000YMOQZY       262935067   \n",
       "1          US      6087195  R2M0R9CWPC82LT  B00ISAEC80       452318038   \n",
       "2          US     33717063   RQNQI2R3BM52A  B00VBB6AVU       675969129   \n",
       "3          US     14948020   RTUIX1135HUAB  B008A5POJO       282925893   \n",
       "4          US     21694522   RE3QSAT8TL010  B014CW2RN4       109077793   \n",
       "\n",
       "                product_title        product_category  star_rating  \\\n",
       "0   Knockin' On Heaven's Door  Digital_Music_Purchase          5.0   \n",
       "1                    Flawless  Digital_Music_Purchase          5.0   \n",
       "2            Scandal of Grace  Digital_Music_Purchase          4.0   \n",
       "3          I Surrender (Live)  Digital_Music_Purchase          5.0   \n",
       "4  We Are Young (Jersey Club)  Digital_Music_Purchase          4.0   \n",
       "\n",
       "   helpful_votes  total_votes vine verified_purchase  \\\n",
       "0            0.0          0.0    N                 Y   \n",
       "1            0.0          0.0    N                 Y   \n",
       "2            0.0          0.0    N                 Y   \n",
       "3            0.0          0.0    N                 Y   \n",
       "4            0.0          0.0    N                 Y   \n",
       "\n",
       "                                 review_headline  \\\n",
       "0                                      favorites   \n",
       "1                                     Five Stars   \n",
       "2                                           Good   \n",
       "3  Wonderful lyrics! Makes you feel like praying   \n",
       "4                       Hot remix but took short   \n",
       "\n",
       "                                         review_body review_date  \n",
       "0                      Great  rendition. Great  song  2015-08-31  \n",
       "1                            A good music to listen.  2015-08-31  \n",
       "2  Not as good as the original but I needed to he...  2015-08-31  \n",
       "3  Time to worship and surrender with this song. ...  2015-08-31  \n",
       "4   So this should be longer....but love this song:)  2015-08-31  "
      ]
     },
     "execution_count": 5,
     "metadata": {},
     "output_type": "execute_result"
    }
   ],
   "source": [
    "# Preview DataFrame\n",
    "amz.head()"
   ]
  },
  {
   "cell_type": "markdown",
   "metadata": {},
   "source": [
    "Out of the 15 columns we will be focused on the customer ID, product ID, product title and star rating in order to create the appropriate dataframe for our ALS model."
   ]
  },
  {
   "cell_type": "code",
   "execution_count": 20,
   "metadata": {
    "scrolled": false
   },
   "outputs": [
    {
     "data": {
      "text/html": [
       "<div>\n",
       "<style scoped>\n",
       "    .dataframe tbody tr th:only-of-type {\n",
       "        vertical-align: middle;\n",
       "    }\n",
       "\n",
       "    .dataframe tbody tr th {\n",
       "        vertical-align: top;\n",
       "    }\n",
       "\n",
       "    .dataframe thead th {\n",
       "        text-align: right;\n",
       "    }\n",
       "</style>\n",
       "<table border=\"1\" class=\"dataframe\">\n",
       "  <thead>\n",
       "    <tr style=\"text-align: right;\">\n",
       "      <th></th>\n",
       "      <th>customer_id</th>\n",
       "      <th>product_id</th>\n",
       "      <th>product_title</th>\n",
       "      <th>star_rating</th>\n",
       "    </tr>\n",
       "  </thead>\n",
       "  <tbody>\n",
       "    <tr>\n",
       "      <td>0</td>\n",
       "      <td>10293599</td>\n",
       "      <td>B000YMOQZY</td>\n",
       "      <td>Knockin' On Heaven's Door</td>\n",
       "      <td>5.0</td>\n",
       "    </tr>\n",
       "    <tr>\n",
       "      <td>1</td>\n",
       "      <td>6087195</td>\n",
       "      <td>B00ISAEC80</td>\n",
       "      <td>Flawless</td>\n",
       "      <td>5.0</td>\n",
       "    </tr>\n",
       "    <tr>\n",
       "      <td>2</td>\n",
       "      <td>33717063</td>\n",
       "      <td>B00VBB6AVU</td>\n",
       "      <td>Scandal of Grace</td>\n",
       "      <td>4.0</td>\n",
       "    </tr>\n",
       "    <tr>\n",
       "      <td>3</td>\n",
       "      <td>14948020</td>\n",
       "      <td>B008A5POJO</td>\n",
       "      <td>I Surrender (Live)</td>\n",
       "      <td>5.0</td>\n",
       "    </tr>\n",
       "    <tr>\n",
       "      <td>4</td>\n",
       "      <td>21694522</td>\n",
       "      <td>B014CW2RN4</td>\n",
       "      <td>We Are Young (Jersey Club)</td>\n",
       "      <td>4.0</td>\n",
       "    </tr>\n",
       "    <tr>\n",
       "      <td>...</td>\n",
       "      <td>...</td>\n",
       "      <td>...</td>\n",
       "      <td>...</td>\n",
       "      <td>...</td>\n",
       "    </tr>\n",
       "    <tr>\n",
       "      <td>1681479</td>\n",
       "      <td>49890809</td>\n",
       "      <td>B0026GBMLM</td>\n",
       "      <td>The Human Condition In Twelve Fractions</td>\n",
       "      <td>5.0</td>\n",
       "    </tr>\n",
       "    <tr>\n",
       "      <td>1681480</td>\n",
       "      <td>49890809</td>\n",
       "      <td>B000TETLAW</td>\n",
       "      <td>Liberate te ex Inferis</td>\n",
       "      <td>5.0</td>\n",
       "    </tr>\n",
       "    <tr>\n",
       "      <td>1681481</td>\n",
       "      <td>46804575</td>\n",
       "      <td>B00138GY0I</td>\n",
       "      <td>Blood On The Dance Floor/ History In The Mix</td>\n",
       "      <td>4.0</td>\n",
       "    </tr>\n",
       "    <tr>\n",
       "      <td>1681482</td>\n",
       "      <td>49890809</td>\n",
       "      <td>B005NVYISQ</td>\n",
       "      <td>Satisfaction Is The Death Of Desire</td>\n",
       "      <td>5.0</td>\n",
       "    </tr>\n",
       "    <tr>\n",
       "      <td>1681483</td>\n",
       "      <td>50503261</td>\n",
       "      <td>B0073EPG00</td>\n",
       "      <td>Sixteen Tambourines / Baroque Hoedown</td>\n",
       "      <td>5.0</td>\n",
       "    </tr>\n",
       "  </tbody>\n",
       "</table>\n",
       "<p>1681484 rows × 4 columns</p>\n",
       "</div>"
      ],
      "text/plain": [
       "         customer_id  product_id  \\\n",
       "0           10293599  B000YMOQZY   \n",
       "1            6087195  B00ISAEC80   \n",
       "2           33717063  B00VBB6AVU   \n",
       "3           14948020  B008A5POJO   \n",
       "4           21694522  B014CW2RN4   \n",
       "...              ...         ...   \n",
       "1681479     49890809  B0026GBMLM   \n",
       "1681480     49890809  B000TETLAW   \n",
       "1681481     46804575  B00138GY0I   \n",
       "1681482     49890809  B005NVYISQ   \n",
       "1681483     50503261  B0073EPG00   \n",
       "\n",
       "                                        product_title  star_rating  \n",
       "0                           Knockin' On Heaven's Door          5.0  \n",
       "1                                            Flawless          5.0  \n",
       "2                                    Scandal of Grace          4.0  \n",
       "3                                  I Surrender (Live)          5.0  \n",
       "4                          We Are Young (Jersey Club)          4.0  \n",
       "...                                               ...          ...  \n",
       "1681479       The Human Condition In Twelve Fractions          5.0  \n",
       "1681480                        Liberate te ex Inferis          5.0  \n",
       "1681481  Blood On The Dance Floor/ History In The Mix          4.0  \n",
       "1681482           Satisfaction Is The Death Of Desire          5.0  \n",
       "1681483         Sixteen Tambourines / Baroque Hoedown          5.0  \n",
       "\n",
       "[1681484 rows x 4 columns]"
      ]
     },
     "execution_count": 20,
     "metadata": {},
     "output_type": "execute_result"
    }
   ],
   "source": [
    "# Slice DataFrame for Necessary Columns\n",
    "cols = ['customer_id', 'product_id', 'product_title', 'star_rating']\n",
    "amz_data = amz[cols]\n",
    "amz_data"
   ]
  },
  {
   "cell_type": "markdown",
   "metadata": {},
   "source": [
    "We now have the appropiate dataset needed for implementing ALS through PySpark. However the size of the dataframe we want to model will have to be examined."
   ]
  },
  {
   "cell_type": "code",
   "execution_count": 7,
   "metadata": {},
   "outputs": [
    {
     "name": "stdout",
     "output_type": "stream",
     "text": [
      "Number of Unique Songs:  699450\n"
     ]
    }
   ],
   "source": [
    "print('Number of Unique Songs: ',len(amz_data.product_id.unique()))"
   ]
  },
  {
   "cell_type": "code",
   "execution_count": 8,
   "metadata": {},
   "outputs": [
    {
     "name": "stdout",
     "output_type": "stream",
     "text": [
      "Number of Unique Users:  796587\n"
     ]
    }
   ],
   "source": [
    "print('Number of Unique Users: ',len(amz_data.customer_id.unique()))"
   ]
  },
  {
   "cell_type": "markdown",
   "metadata": {},
   "source": [
    "Since we have almost 700k songs and 800k users we will need to take a sample. Our goal is to keep the most active 10k users."
   ]
  },
  {
   "cell_type": "code",
   "execution_count": 92,
   "metadata": {},
   "outputs": [
    {
     "data": {
      "text/html": [
       "<div>\n",
       "<style scoped>\n",
       "    .dataframe tbody tr th:only-of-type {\n",
       "        vertical-align: middle;\n",
       "    }\n",
       "\n",
       "    .dataframe tbody tr th {\n",
       "        vertical-align: top;\n",
       "    }\n",
       "\n",
       "    .dataframe thead th {\n",
       "        text-align: right;\n",
       "    }\n",
       "</style>\n",
       "<table border=\"1\" class=\"dataframe\">\n",
       "  <thead>\n",
       "    <tr style=\"text-align: right;\">\n",
       "      <th></th>\n",
       "      <th>customer_id</th>\n",
       "      <th>product_id</th>\n",
       "      <th>product_title</th>\n",
       "      <th>star_rating</th>\n",
       "    </tr>\n",
       "  </thead>\n",
       "  <tbody>\n",
       "    <tr>\n",
       "      <td>4</td>\n",
       "      <td>21694522</td>\n",
       "      <td>B014CW2RN4</td>\n",
       "      <td>We Are Young (Jersey Club)</td>\n",
       "      <td>4.0</td>\n",
       "    </tr>\n",
       "    <tr>\n",
       "      <td>6</td>\n",
       "      <td>20031966</td>\n",
       "      <td>B009G3U0PW</td>\n",
       "      <td>I'll Never Be Free</td>\n",
       "      <td>5.0</td>\n",
       "    </tr>\n",
       "    <tr>\n",
       "      <td>9</td>\n",
       "      <td>51714365</td>\n",
       "      <td>B00136NVH4</td>\n",
       "      <td>Bat Out Of Hell</td>\n",
       "      <td>5.0</td>\n",
       "    </tr>\n",
       "    <tr>\n",
       "      <td>24</td>\n",
       "      <td>3618115</td>\n",
       "      <td>B00O75PLY4</td>\n",
       "      <td>Live Wire</td>\n",
       "      <td>4.0</td>\n",
       "    </tr>\n",
       "    <tr>\n",
       "      <td>26</td>\n",
       "      <td>2024504</td>\n",
       "      <td>B007D59TBG</td>\n",
       "      <td>Turandot: Act III - Calaf's Aria - \"Nessun dorma\"</td>\n",
       "      <td>5.0</td>\n",
       "    </tr>\n",
       "    <tr>\n",
       "      <td>...</td>\n",
       "      <td>...</td>\n",
       "      <td>...</td>\n",
       "      <td>...</td>\n",
       "      <td>...</td>\n",
       "    </tr>\n",
       "    <tr>\n",
       "      <td>1681472</td>\n",
       "      <td>40057531</td>\n",
       "      <td>B0092MJOMW</td>\n",
       "      <td>Reign In Blood</td>\n",
       "      <td>5.0</td>\n",
       "    </tr>\n",
       "    <tr>\n",
       "      <td>1681474</td>\n",
       "      <td>53016962</td>\n",
       "      <td>B00138KFV2</td>\n",
       "      <td>The Bootleg Series Volumes 1-3 (Rare And Unrel...</td>\n",
       "      <td>5.0</td>\n",
       "    </tr>\n",
       "    <tr>\n",
       "      <td>1681478</td>\n",
       "      <td>42965654</td>\n",
       "      <td>B000QZX6X2</td>\n",
       "      <td>Chameleon</td>\n",
       "      <td>3.0</td>\n",
       "    </tr>\n",
       "    <tr>\n",
       "      <td>1681481</td>\n",
       "      <td>46804575</td>\n",
       "      <td>B00138GY0I</td>\n",
       "      <td>Blood On The Dance Floor/ History In The Mix</td>\n",
       "      <td>4.0</td>\n",
       "    </tr>\n",
       "    <tr>\n",
       "      <td>1681483</td>\n",
       "      <td>50503261</td>\n",
       "      <td>B0073EPG00</td>\n",
       "      <td>Sixteen Tambourines / Baroque Hoedown</td>\n",
       "      <td>5.0</td>\n",
       "    </tr>\n",
       "  </tbody>\n",
       "</table>\n",
       "<p>345254 rows × 4 columns</p>\n",
       "</div>"
      ],
      "text/plain": [
       "         customer_id  product_id  \\\n",
       "4           21694522  B014CW2RN4   \n",
       "6           20031966  B009G3U0PW   \n",
       "9           51714365  B00136NVH4   \n",
       "24           3618115  B00O75PLY4   \n",
       "26           2024504  B007D59TBG   \n",
       "...              ...         ...   \n",
       "1681472     40057531  B0092MJOMW   \n",
       "1681474     53016962  B00138KFV2   \n",
       "1681478     42965654  B000QZX6X2   \n",
       "1681481     46804575  B00138GY0I   \n",
       "1681483     50503261  B0073EPG00   \n",
       "\n",
       "                                             product_title  star_rating  \n",
       "4                               We Are Young (Jersey Club)          4.0  \n",
       "6                                       I'll Never Be Free          5.0  \n",
       "9                                          Bat Out Of Hell          5.0  \n",
       "24                                               Live Wire          4.0  \n",
       "26       Turandot: Act III - Calaf's Aria - \"Nessun dorma\"          5.0  \n",
       "...                                                    ...          ...  \n",
       "1681472                                     Reign In Blood          5.0  \n",
       "1681474  The Bootleg Series Volumes 1-3 (Rare And Unrel...          5.0  \n",
       "1681478                                          Chameleon          3.0  \n",
       "1681481       Blood On The Dance Floor/ History In The Mix          4.0  \n",
       "1681483              Sixteen Tambourines / Baroque Hoedown          5.0  \n",
       "\n",
       "[345254 rows x 4 columns]"
      ]
     },
     "execution_count": 92,
     "metadata": {},
     "output_type": "execute_result"
    }
   ],
   "source": [
    "n = 12000\n",
    "top_customer_reviewers = amz_data.customer_id.value_counts()[:n]\n",
    "amz_data_ss = amz_data[amz_data['customer_id'].isin(top_customer_reviewers.index)]\n",
    "amz_data_ss"
   ]
  },
  {
   "cell_type": "code",
   "execution_count": 93,
   "metadata": {},
   "outputs": [
    {
     "name": "stdout",
     "output_type": "stream",
     "text": [
      "Number of Unique Songs:  213206\n",
      "Number of Unique Customers:  12000\n"
     ]
    }
   ],
   "source": [
    "print('Number of Unique Songs: ',len(amz_data_ss.product_id.unique()))\n",
    "print('Number of Unique Customers: ',len(amz_data_ss.customer_id.unique()))"
   ]
  },
  {
   "cell_type": "code",
   "execution_count": 94,
   "metadata": {},
   "outputs": [
    {
     "data": {
      "text/html": [
       "<div>\n",
       "<style scoped>\n",
       "    .dataframe tbody tr th:only-of-type {\n",
       "        vertical-align: middle;\n",
       "    }\n",
       "\n",
       "    .dataframe tbody tr th {\n",
       "        vertical-align: top;\n",
       "    }\n",
       "\n",
       "    .dataframe thead th {\n",
       "        text-align: right;\n",
       "    }\n",
       "</style>\n",
       "<table border=\"1\" class=\"dataframe\">\n",
       "  <thead>\n",
       "    <tr style=\"text-align: right;\">\n",
       "      <th></th>\n",
       "      <th>customer_id</th>\n",
       "      <th>product_id</th>\n",
       "      <th>product_title</th>\n",
       "      <th>star_rating</th>\n",
       "    </tr>\n",
       "  </thead>\n",
       "  <tbody>\n",
       "    <tr>\n",
       "      <td>9</td>\n",
       "      <td>51714365</td>\n",
       "      <td>B00136NVH4</td>\n",
       "      <td>Bat Out Of Hell</td>\n",
       "      <td>5.0</td>\n",
       "    </tr>\n",
       "    <tr>\n",
       "      <td>31</td>\n",
       "      <td>3618115</td>\n",
       "      <td>B00O75SGLE</td>\n",
       "      <td>Whole Lotta Rosie</td>\n",
       "      <td>4.0</td>\n",
       "    </tr>\n",
       "    <tr>\n",
       "      <td>37</td>\n",
       "      <td>22146246</td>\n",
       "      <td>B00T532QVO</td>\n",
       "      <td>Classic Man [Clean]</td>\n",
       "      <td>4.0</td>\n",
       "    </tr>\n",
       "    <tr>\n",
       "      <td>41</td>\n",
       "      <td>14744748</td>\n",
       "      <td>B00C5ZORES</td>\n",
       "      <td>Save Rock And Roll [Explicit]</td>\n",
       "      <td>5.0</td>\n",
       "    </tr>\n",
       "    <tr>\n",
       "      <td>60</td>\n",
       "      <td>14744748</td>\n",
       "      <td>B00KT3LJNU</td>\n",
       "      <td>Stay With Me</td>\n",
       "      <td>5.0</td>\n",
       "    </tr>\n",
       "    <tr>\n",
       "      <td>...</td>\n",
       "      <td>...</td>\n",
       "      <td>...</td>\n",
       "      <td>...</td>\n",
       "      <td>...</td>\n",
       "    </tr>\n",
       "    <tr>\n",
       "      <td>1680519</td>\n",
       "      <td>42418272</td>\n",
       "      <td>B000VZUIAQ</td>\n",
       "      <td>Chasing Cars</td>\n",
       "      <td>4.0</td>\n",
       "    </tr>\n",
       "    <tr>\n",
       "      <td>1680858</td>\n",
       "      <td>42418272</td>\n",
       "      <td>B000V6POF4</td>\n",
       "      <td>Wake Up Call</td>\n",
       "      <td>4.0</td>\n",
       "    </tr>\n",
       "    <tr>\n",
       "      <td>1681348</td>\n",
       "      <td>42418272</td>\n",
       "      <td>B000V63BN6</td>\n",
       "      <td>The Definitive Collection</td>\n",
       "      <td>4.0</td>\n",
       "    </tr>\n",
       "    <tr>\n",
       "      <td>1681406</td>\n",
       "      <td>42418272</td>\n",
       "      <td>B000VWLEFM</td>\n",
       "      <td>Made In England</td>\n",
       "      <td>5.0</td>\n",
       "    </tr>\n",
       "    <tr>\n",
       "      <td>1681472</td>\n",
       "      <td>40057531</td>\n",
       "      <td>B0092MJOMW</td>\n",
       "      <td>Reign In Blood</td>\n",
       "      <td>5.0</td>\n",
       "    </tr>\n",
       "  </tbody>\n",
       "</table>\n",
       "<p>91990 rows × 4 columns</p>\n",
       "</div>"
      ],
      "text/plain": [
       "         customer_id  product_id                  product_title  star_rating\n",
       "9           51714365  B00136NVH4                Bat Out Of Hell          5.0\n",
       "31           3618115  B00O75SGLE              Whole Lotta Rosie          4.0\n",
       "37          22146246  B00T532QVO            Classic Man [Clean]          4.0\n",
       "41          14744748  B00C5ZORES  Save Rock And Roll [Explicit]          5.0\n",
       "60          14744748  B00KT3LJNU                   Stay With Me          5.0\n",
       "...              ...         ...                            ...          ...\n",
       "1680519     42418272  B000VZUIAQ                   Chasing Cars          4.0\n",
       "1680858     42418272  B000V6POF4                   Wake Up Call          4.0\n",
       "1681348     42418272  B000V63BN6      The Definitive Collection          4.0\n",
       "1681406     42418272  B000VWLEFM                Made In England          5.0\n",
       "1681472     40057531  B0092MJOMW                 Reign In Blood          5.0\n",
       "\n",
       "[91990 rows x 4 columns]"
      ]
     },
     "execution_count": 94,
     "metadata": {},
     "output_type": "execute_result"
    }
   ],
   "source": [
    "n = 10000\n",
    "top_movies_reviewed = amz_data_ss.product_id.value_counts()[:n]\n",
    "amz_data_ss2 = amz_data_ss[amz_data_ss['product_id'].isin(top_movies_reviewed.index)]\n",
    "amz_data_ss2"
   ]
  },
  {
   "cell_type": "code",
   "execution_count": 95,
   "metadata": {},
   "outputs": [
    {
     "name": "stdout",
     "output_type": "stream",
     "text": [
      "Number of Unique Songs:  10000\n",
      "Number of Unique Customers:  10426\n"
     ]
    }
   ],
   "source": [
    "print('Number of Unique Songs: ',len(amz_data_ss2.product_id.unique()))\n",
    "print('Number of Unique Customers: ',len(amz_data_ss2.customer_id.unique()))"
   ]
  },
  {
   "cell_type": "markdown",
   "metadata": {},
   "source": [
    "We got our ratings to be just over 1M (10k songs and about 10k customers) by choosing the most popular songs and most frequent reviewers."
   ]
  },
  {
   "cell_type": "markdown",
   "metadata": {},
   "source": [
    "Lets view the top-10 songs that were reviewed by customers, customers that reviewed the most songs and rating distribution."
   ]
  },
  {
   "cell_type": "code",
   "execution_count": 96,
   "metadata": {},
   "outputs": [
    {
     "data": {
      "image/png": "[encoded data removed]",
      "text/plain": [
       "<Figure size 432x288 with 1 Axes>"
      ]
     },
     "metadata": {
      "needs_background": "light"
     },
     "output_type": "display_data"
    }
   ],
   "source": [
    "amz_data_ss2.product_title.value_counts()[:10].plot(kind='barh')\n",
    "plt.title('Top 10 Reviewed Songs')\n",
    "plt.ylabel('Count')\n",
    "plt.xlabel('Song')\n",
    "plt.gca().invert_yaxis()"
   ]
  },
  {
   "cell_type": "code",
   "execution_count": 101,
   "metadata": {},
   "outputs": [
    {
     "data": {
      "image/png": "[encoded data removed]",
      "text/plain": [
       "<Figure size 432x288 with 1 Axes>"
      ]
     },
     "metadata": {
      "needs_background": "light"
     },
     "output_type": "display_data"
    }
   ],
   "source": [
    "amz_data_ss2.customer_id.value_counts()[:10].plot(kind='barh')\n",
    "plt.title('Customers that Reviewed the most Songs')\n",
    "plt.ylabel('Count')\n",
    "plt.xlabel('Song')\n",
    "plt.gca().invert_yaxis()"
   ]
  },
  {
   "cell_type": "code",
   "execution_count": 99,
   "metadata": {
    "scrolled": true
   },
   "outputs": [
    {
     "data": {
      "text/plain": [
       "Text(0.5, 0, 'Stars')"
      ]
     },
     "execution_count": 99,
     "metadata": {},
     "output_type": "execute_result"
    },
    {
     "data": {
      "image/png": "[encoded data removed]",
      "text/plain": [
       "<Figure size 432x288 with 1 Axes>"
      ]
     },
     "metadata": {
      "needs_background": "light"
     },
     "output_type": "display_data"
    }
   ],
   "source": [
    "amz_data_ss2.star_rating.value_counts().plot(kind='bar')\n",
    "plt.title('Rating Distributions')\n",
    "plt.ylabel('Count')\n",
    "plt.xlabel('Stars')"
   ]
  },
  {
   "cell_type": "markdown",
   "metadata": {},
   "source": [
    "We have picked our most frequent reviewers and most popular songs while keeping the total number of ratings over one million. We have also seen the distribution of ratings is skewed, most are 5-stars while very few are below 3-stars. "
   ]
  },
  {
   "cell_type": "markdown",
   "metadata": {},
   "source": [
    "Lets create our model."
   ]
  },
  {
   "cell_type": "markdown",
   "metadata": {},
   "source": [
    "## Implementing Spark"
   ]
  },
  {
   "cell_type": "markdown",
   "metadata": {},
   "source": [
    "We start by storing our dataframe in pyspark."
   ]
  },
  {
   "cell_type": "code",
   "execution_count": 102,
   "metadata": {},
   "outputs": [
    {
     "name": "stdout",
     "output_type": "stream",
     "text": [
      "+-----------+----------+--------------------+-----------+\n",
      "|customer_id|product_id|       product_title|star_rating|\n",
      "+-----------+----------+--------------------+-----------+\n",
      "|   51714365|B00136NVH4|     Bat Out Of Hell|        5.0|\n",
      "|    3618115|B00O75SGLE|   Whole Lotta Rosie|        4.0|\n",
      "|   22146246|B00T532QVO| Classic Man [Clean]|        4.0|\n",
      "|   14744748|B00C5ZORES|Save Rock And Rol...|        5.0|\n",
      "|   14744748|B00KT3LJNU|        Stay With Me|        5.0|\n",
      "|   45946560|B001NZP8B2|               Sunny|        5.0|\n",
      "|   14744748|B00GM118JS|The Paradigm Shif...|        5.0|\n",
      "|   14744748|B00FHAB7PK|       Wrecking Ball|        5.0|\n",
      "|   21694522|B00O6K8HC8|       Back In Black|        5.0|\n",
      "|   14744748|B00ESVFRA0|  Berzerk [Explicit]|        5.0|\n",
      "|   39466736|B001HDUQCG|              Savior|        5.0|\n",
      "|   15240638|B005DOJ8QK|       Fortunate Son|        5.0|\n",
      "|   39466736|B0063A8XWS|Angels We Have He...|        5.0|\n",
      "|   13822691|B001QSEI44|The Ballad Of Thu...|        5.0|\n",
      "|   44564999|B0013AGMCG|Princes Of The Un...|        3.0|\n",
      "|   37982891|B00OXE3GEG|        Shake It Off|        5.0|\n",
      "|   45391243|B00YQXKF70|Black Rose [Expli...|        5.0|\n",
      "|   14744748|B00GSAC1UI|PTXmas (Deluxe Ed...|        5.0|\n",
      "|   14744748|B00FW7ZR0O|           Recharged|        5.0|\n",
      "|   39466736|B000W03ITI|    Thnks fr th Mmrs|        5.0|\n",
      "+-----------+----------+--------------------+-----------+\n",
      "only showing top 20 rows\n",
      "\n"
     ]
    }
   ],
   "source": [
    "# Connect to SparkSession\n",
    "start_time = time.time()\n",
    "spark = SparkSession.builder.appName('PySpark ALS Recommender System').getOrCreate()\n",
    "amz_spark = spark.createDataFrame(amz_data_ss2)\n",
    "amz_spark.show()"
   ]
  },
  {
   "cell_type": "markdown",
   "metadata": {},
   "source": [
    "For ALS to work with Pyspark we must create numeric values for the customer and product ID's. We do this by taking their respective index values and applying those to be their new ID."
   ]
  },
  {
   "cell_type": "code",
   "execution_count": 103,
   "metadata": {},
   "outputs": [
    {
     "name": "stdout",
     "output_type": "stream",
     "text": [
      "+-----------+----------+--------------------+-----------+----------------+-----------------+-------------------+\n",
      "|customer_id|product_id|       product_title|star_rating|product_id_index|customer_id_index|product_title_index|\n",
      "+-----------+----------+--------------------+-----------+----------------+-----------------+-------------------+\n",
      "|   51714365|B00136NVH4|     Bat Out Of Hell|        5.0|          2708.0|           4124.0|             2721.0|\n",
      "|    3618115|B00O75SGLE|   Whole Lotta Rosie|        4.0|          9203.0|           1059.0|             7964.0|\n",
      "|   22146246|B00T532QVO| Classic Man [Clean]|        4.0|          9256.0|           1675.0|             6323.0|\n",
      "|   14744748|B00C5ZORES|Save Rock And Rol...|        5.0|          1510.0|            688.0|             1716.0|\n",
      "|   14744748|B00KT3LJNU|        Stay With Me|        5.0|            36.0|            688.0|               23.0|\n",
      "|   45946560|B001NZP8B2|               Sunny|        5.0|          3476.0|           7083.0|             3622.0|\n",
      "|   14744748|B00GM118JS|The Paradigm Shif...|        5.0|          3888.0|            688.0|             3664.0|\n",
      "|   14744748|B00FHAB7PK|       Wrecking Ball|        5.0|          2538.0|            688.0|               43.0|\n",
      "|   21694522|B00O6K8HC8|       Back In Black|        5.0|           897.0|           3776.0|              542.0|\n",
      "|   14744748|B00ESVFRA0|  Berzerk [Explicit]|        5.0|           539.0|            688.0|              432.0|\n",
      "|   39466736|B001HDUQCG|              Savior|        5.0|          3440.0|           3425.0|             3570.0|\n",
      "|   15240638|B005DOJ8QK|       Fortunate Son|        5.0|          2379.0|             12.0|             2393.0|\n",
      "|   39466736|B0063A8XWS|Angels We Have He...|        5.0|          1467.0|           3425.0|              151.0|\n",
      "|   13822691|B001QSEI44|The Ballad Of Thu...|        5.0|          9570.0|           5646.0|             8498.0|\n",
      "|   44564999|B0013AGMCG|Princes Of The Un...|        3.0|          7378.0|           6142.0|             7335.0|\n",
      "|   37982891|B00OXE3GEG|        Shake It Off|        5.0|            16.0|            318.0|                7.0|\n",
      "|   45391243|B00YQXKF70|Black Rose [Expli...|        5.0|          1832.0|            622.0|             1797.0|\n",
      "|   14744748|B00GSAC1UI|PTXmas (Deluxe Ed...|        5.0|          2108.0|            688.0|             1196.0|\n",
      "|   14744748|B00FW7ZR0O|           Recharged|        5.0|          8915.0|            688.0|             7362.0|\n",
      "|   39466736|B000W03ITI|    Thnks fr th Mmrs|        5.0|          4081.0|           3425.0|             4557.0|\n",
      "+-----------+----------+--------------------+-----------+----------------+-----------------+-------------------+\n",
      "only showing top 20 rows\n",
      "\n"
     ]
    }
   ],
   "source": [
    "# Assign Every Unique Product ID, Customer ID, and Product Title an Index - Model Needs Numeric IDs\n",
    "indexer = [StringIndexer(inputCol=column, outputCol=column+\"_index\") for column in list(set(amz_spark.columns)-set(['star_rating'])) ]\n",
    "pipeline = Pipeline(stages=indexer)\n",
    "transformed = pipeline.fit(amz_spark).transform(amz_spark)\n",
    "transformed.show()"
   ]
  },
  {
   "cell_type": "markdown",
   "metadata": {},
   "source": [
    "For recommendations later, we can map our unique song id's that we just generated to the song title's."
   ]
  },
  {
   "cell_type": "code",
   "execution_count": 104,
   "metadata": {},
   "outputs": [],
   "source": [
    "product_facts = transformed.select('product_id_index','product_title_index', 'product_title').drop_duplicates(subset = ['product_title_index']).toPandas()"
   ]
  },
  {
   "cell_type": "markdown",
   "metadata": {},
   "source": [
    "We now split out dataframe into a 80/20 training and testing split."
   ]
  },
  {
   "cell_type": "code",
   "execution_count": null,
   "metadata": {},
   "outputs": [],
   "source": [
    "# Split DataFrame into Training and Test Sets - 80:20 Ratio\n",
    "# Need to add Seed here\n",
    "(training, test) = transformed.randomSplit([0.8, 0.2])"
   ]
  },
  {
   "cell_type": "markdown",
   "metadata": {},
   "source": [
    "We create the ALS model by passing through the following parameters that we know; new customer and product ID, star rating, coldStartStrategy=drop and nonnegative=True. This way we do not predict negative values. Next we experimented with parameters which includes the rank, max iterations, and regularization parameter in order to minimize RMSE.\n",
    "\n",
    "> Rank: Size of U and P matrices\n",
    "\n",
    "> Max Iterations: to minimize error between U and P.\n",
    "\n",
    "> Regularization Parameter: which prevents overfitting."
   ]
  },
  {
   "cell_type": "code",
   "execution_count": 105,
   "metadata": {},
   "outputs": [],
   "source": [
    "# ALS Model - 5 Iterations, RegParam 0.01\n",
    "als = ALS(maxIter=5, regParam=0.05, userCol=\"customer_id_index\", itemCol=\"product_id_index\", ratingCol=\"star_rating\",\n",
    "          coldStartStrategy=\"drop\", nonnegative=True)"
   ]
  },
  {
   "cell_type": "markdown",
   "metadata": {},
   "source": [
    "Next we will fit the model using the training data."
   ]
  },
  {
   "cell_type": "code",
   "execution_count": 106,
   "metadata": {
    "scrolled": true
   },
   "outputs": [],
   "source": [
    "als_spark_model = als.fit(training)"
   ]
  },
  {
   "cell_type": "markdown",
   "metadata": {},
   "source": [
    "We predict the ratings for our test set, evaluate the model using root-mean-squared-error and print the result."
   ]
  },
  {
   "cell_type": "code",
   "execution_count": 107,
   "metadata": {},
   "outputs": [
    {
     "name": "stdout",
     "output_type": "stream",
     "text": [
      "Root-mean-square error = 0.9559553745991212\n"
     ]
    }
   ],
   "source": [
    "evaluator = RegressionEvaluator(metricName=\"rmse\",labelCol=\"star_rating\",predictionCol=\"prediction\")\n",
    "predictions = als_spark_model.transform(test)\n",
    "rmse = evaluator.evaluate(predictions)\n",
    "print(\"Root-mean-square error = \" + str(rmse))"
   ]
  },
  {
   "cell_type": "markdown",
   "metadata": {},
   "source": [
    "Let's view the predictions."
   ]
  },
  {
   "cell_type": "code",
   "execution_count": 108,
   "metadata": {
    "scrolled": false
   },
   "outputs": [
    {
     "name": "stdout",
     "output_type": "stream",
     "text": [
      "+-----------+----------+--------------------+-----------+----------------+-----------------+-------------------+----------+\n",
      "|customer_id|product_id|       product_title|star_rating|product_id_index|customer_id_index|product_title_index|prediction|\n",
      "+-----------+----------+--------------------+-----------+----------------+-----------------+-------------------+----------+\n",
      "|   51064757|B00S17FZ7C|Love Me Like You ...|        5.0|           148.0|            348.0|               93.0| 4.8132563|\n",
      "|   36922352|B00S17FZ7C|Love Me Like You ...|        5.0|           148.0|            484.0|               93.0|  3.565266|\n",
      "|   43992277|B00S17FZ7C|Love Me Like You ...|        5.0|           148.0|           1079.0|               93.0|  4.685665|\n",
      "|   23663191|B00S17FZ7C|Love Me Like You ...|        5.0|           148.0|           3302.0|               93.0| 5.0178094|\n",
      "|   37656049|B00S17FZ7C|Love Me Like You ...|        3.0|           148.0|           2960.0|               93.0|  3.086508|\n",
      "|   10380180|B00S17FZ7C|Love Me Like You ...|        4.0|           148.0|           1821.0|               93.0| 4.9052343|\n",
      "|   49958900|B00S17FZ7C|Love Me Like You ...|        5.0|           148.0|           4095.0|               93.0|  4.378924|\n",
      "|    9964185|B00S17FZ7C|Love Me Like You ...|        5.0|           148.0|            917.0|               93.0|  4.075571|\n",
      "|   17069147|B00TIYVGDY|          Fight Song|        5.0|           463.0|           1139.0|              291.0|  4.459297|\n",
      "|   52923831|B00TIYVGDY|          Fight Song|        5.0|           463.0|             47.0|              291.0|  4.565946|\n",
      "|   28207809|B00TIYVGDY|          Fight Song|        5.0|           463.0|           1341.0|              291.0|  5.075804|\n",
      "|   36922352|B00TIYVGDY|          Fight Song|        4.0|           463.0|            484.0|              291.0| 3.5206442|\n",
      "|   10568429|B00TIYVGDY|          Fight Song|        5.0|           463.0|            543.0|              291.0| 4.9225454|\n",
      "|    6646812|B00TIYVGDY|          Fight Song|        5.0|           463.0|            828.0|              291.0| 3.4764354|\n",
      "|   49350555|B00TIYVGDY|          Fight Song|        5.0|           463.0|           1241.0|              291.0| 5.0130033|\n",
      "|   24043157|B00TIYVGDY|          Fight Song|        5.0|           463.0|             66.0|              291.0|  4.366195|\n",
      "|   31048550|B00137MTF8|              Smooth|        5.0|           471.0|           4485.0|              680.0| 4.2019534|\n",
      "|   41559958|B00137MTF8|              Smooth|        5.0|           471.0|           1211.0|              680.0|  4.158503|\n",
      "|    3772038|B00137MTF8|              Smooth|        4.0|           471.0|             11.0|              680.0| 4.9244065|\n",
      "|   12237768|B00137MTF8|              Smooth|        5.0|           471.0|            681.0|              680.0| 3.4011698|\n",
      "+-----------+----------+--------------------+-----------+----------------+-----------------+-------------------+----------+\n",
      "only showing top 20 rows\n",
      "\n"
     ]
    }
   ],
   "source": [
    "predictions.show()"
   ]
  },
  {
   "cell_type": "markdown",
   "metadata": {},
   "source": [
    "We can now create song recommendations for each song in the dataset based on predictions.\n",
    "We'll select 5 recommendations per song"
   ]
  },
  {
   "cell_type": "code",
   "execution_count": 109,
   "metadata": {
    "scrolled": true
   },
   "outputs": [],
   "source": [
    "# Create Pandas DataFrame to Product Recommendations\n",
    "product_recs = als_spark_model.recommendForAllItems(5).toPandas()"
   ]
  },
  {
   "cell_type": "code",
   "execution_count": null,
   "metadata": {},
   "outputs": [],
   "source": [
    "end_time = time.time()"
   ]
  },
  {
   "cell_type": "markdown",
   "metadata": {},
   "source": [
    "Now we can see how long the model took to run"
   ]
  },
  {
   "cell_type": "code",
   "execution_count": 162,
   "metadata": {},
   "outputs": [
    {
     "name": "stdout",
     "output_type": "stream",
     "text": [
      "PySpark ALS Model Runtime: -3591.5944900512695 seconds\n"
     ]
    }
   ],
   "source": [
    "print(\"PySpark ALS Model Runtime: \" + str((end_time - start_time)) + \" seconds\")"
   ]
  },
  {
   "cell_type": "markdown",
   "metadata": {},
   "source": [
    "Now we can clean up the recommendations to get the song titles for each song."
   ]
  },
  {
   "cell_type": "code",
   "execution_count": 110,
   "metadata": {},
   "outputs": [],
   "source": [
    "recommendations = product_recs['recommendations'].apply(pd.Series)\n",
    "recommendations = recommendations.rename(columns = lambda x : 'recommendation_' + str(int(x)+1))\n",
    "recommendations = recommendations.apply(lambda col: col.str[0])\n",
    "product_recs = pd.concat([product_recs[:], recommendations[:]], axis=1)"
   ]
  },
  {
   "cell_type": "code",
   "execution_count": null,
   "metadata": {},
   "outputs": [],
   "source": [
    "product = product_recs['product_id_index'][0]\n",
    "recommendation_1 = product_recs['recommendation_1'][0]\n",
    "recommendation_2 = product_recs['recommendation_2'][0]\n",
    "recommendation_3 = product_recs['recommendation_3'][0]\n",
    "recommendation_4 = product_recs['recommendation_4'][0]\n",
    "recommendation_5 = product_recs['recommendation_5'][0]"
   ]
  },
  {
   "cell_type": "code",
   "execution_count": null,
   "metadata": {},
   "outputs": [],
   "source": [
    "product = product_facts[product_facts['product_id_index'] == product]['product_title']\n",
    "recommendation_1 = product_facts[product_facts['product_id_index'] == recommendation_1]['product_title']\n",
    "recommendation_2 = product_facts[product_facts['product_id_index'] == recommendation_2]['product_title']\n",
    "recommendation_3 = product_facts[product_facts['product_id_index'] == recommendation_3]['product_title']\n",
    "recommendation_4 = product_facts[product_facts['product_id_index'] == recommendation_4]['product_title']\n",
    "recommendation_5 = product_facts[product_facts['product_id_index'] == recommendation_5]['product_title']"
   ]
  },
  {
   "cell_type": "code",
   "execution_count": null,
   "metadata": {},
   "outputs": [],
   "source": [
    "print('Song: ',product)\n",
    "print('Recomendation 1: ', recommendation_1)\n",
    "print('Recomendation 2: ', recommendation_2)\n",
    "print('Recomendation 3: ', recommendation_3)\n",
    "print('Recomendation 4: ', recommendation_4)\n",
    "print('Recomendation 5: ', recommendation_5)"
   ]
  },
  {
   "cell_type": "code",
   "execution_count": null,
   "metadata": {},
   "outputs": [],
   "source": [
    "spark.catalog.clearCache()\n",
    "spark.stop()"
   ]
  },
  {
   "cell_type": "markdown",
   "metadata": {},
   "source": [
    "## Conclusion\n",
    "The challenging part of this report was not only using a new dataset with over a million ratings, but learning how to build recommender systems using Python. We made this decision because of the popularity of Python in the commercial world also because we wanted to transcend our knowledge of recommender systems from R to Python.  "
   ]
  }
 ],
 "metadata": {
  "kernelspec": {
   "display_name": "Python 3",
   "language": "python",
   "name": "python3"
  },
  "language_info": {
   "codemirror_mode": {
    "name": "ipython",
    "version": 3
   },
   "file_extension": ".py",
   "mimetype": "text/x-python",
   "name": "python",
   "nbconvert_exporter": "python",
   "pygments_lexer": "ipython3",
   "version": "3.7.4"
  }
 },
 "nbformat": 4,
 "nbformat_minor": 4
}
